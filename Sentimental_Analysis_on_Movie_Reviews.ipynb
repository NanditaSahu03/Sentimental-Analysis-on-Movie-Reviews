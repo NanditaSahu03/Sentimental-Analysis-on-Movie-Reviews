{
  "nbformat": 4,
  "nbformat_minor": 0,
  "metadata": {
    "colab": {
      "name": "Sentimental Analysis on Movie Reviews.ipynb",
      "provenance": [],
      "toc_visible": true
    },
    "kernelspec": {
      "name": "python3",
      "display_name": "Python 3"
    },
    "language_info": {
      "name": "python"
    }
  },
  "cells": [
    {
      "cell_type": "markdown",
      "metadata": {
        "id": "wZYCCmI9SctX"
      },
      "source": [
        "# Sentimental Analysis on Movie Reviews NLP"
      ]
    },
    {
      "cell_type": "markdown",
      "metadata": {
        "id": "eb7R_WXGShTp"
      },
      "source": [
        "## Importing Libraries"
      ]
    },
    {
      "cell_type": "code",
      "metadata": {
        "id": "WR2XNCM0SlPb"
      },
      "source": [
        "import numpy as np\n",
        "import pandas as pd\n",
        "import matplotlib.pyplot as plt"
      ],
      "execution_count": 5,
      "outputs": []
    },
    {
      "cell_type": "markdown",
      "metadata": {
        "id": "_n0RqC1HSscH"
      },
      "source": [
        "## Loading Dataset"
      ]
    },
    {
      "cell_type": "code",
      "metadata": {
        "id": "_jOlrsEWSvJt"
      },
      "source": [
        "train = pd.read_csv('train.tsv',delimiter='\\t',quoting=3,nrows=3005) # quoting = 3 for no quotes consideration in dataset"
      ],
      "execution_count": 6,
      "outputs": []
    },
    {
      "cell_type": "code",
      "metadata": {
        "colab": {
          "base_uri": "https://localhost:8080/"
        },
        "id": "tHR70oNdTQL8",
        "outputId": "75aeff5e-1787-4406-8c1e-4f6ef271c795"
      },
      "source": [
        "print(train.head())"
      ],
      "execution_count": 7,
      "outputs": [
        {
          "output_type": "stream",
          "text": [
            "   PhraseId  ...  Sentiment\n",
            "0         1  ...          1\n",
            "1         2  ...          2\n",
            "2         3  ...          2\n",
            "3         4  ...          2\n",
            "4         5  ...          2\n",
            "\n",
            "[5 rows x 4 columns]\n"
          ],
          "name": "stdout"
        }
      ]
    },
    {
      "cell_type": "markdown",
      "metadata": {
        "id": "80BMmtCDTLak"
      },
      "source": [
        "## Cleaning Data"
      ]
    },
    {
      "cell_type": "code",
      "metadata": {
        "colab": {
          "base_uri": "https://localhost:8080/"
        },
        "id": "Mjet-VTLTk7y",
        "outputId": "97847e9f-0fcb-40e9-dd90-2fb8494d31de"
      },
      "source": [
        "import re\n",
        "import nltk\n",
        "nltk.download('stopwords') # download common words (stopwords) 'a,the,pronouns....etc' words\n",
        "from nltk.corpus import stopwords # importing stopwords\n",
        "from nltk.stem.porter import PorterStemmer # Importing stem which helps to reduce sparse matrix by converting words to present tense 'loved' ==> 'love'\n",
        "corpus = [] # list contains all the clean words\n",
        "for i in range(0,3005):\n",
        "  review = re.sub('[^a-zA-Z]',' ',train['Phrase'][i]) # replace those punctuation words with space\n",
        "  review = review.lower() # convert the reviews to lowercase\n",
        "  review = review.split() # split those sentences to words\n",
        "  ps = PorterStemmer()\n",
        "  all_stopwords = stopwords.words('english')\n",
        "  all_stopwords.remove('not')  # removing the 'not' from stopwords list\n",
        "  review = [ps.stem(word) for word in review if not word in set(all_stopwords)]\n",
        "  review = ' '.join(review) # Join the words using space\n",
        "  corpus.append(review)"
      ],
      "execution_count": 9,
      "outputs": [
        {
          "output_type": "stream",
          "text": [
            "[nltk_data] Downloading package stopwords to /root/nltk_data...\n",
            "[nltk_data]   Package stopwords is already up-to-date!\n"
          ],
          "name": "stdout"
        }
      ]
    },
    {
      "cell_type": "code",
      "metadata": {
        "id": "o8z-lhpnYovq",
        "colab": {
          "base_uri": "https://localhost:8080/"
        },
        "outputId": "32ef53e7-98d0-46bc-ae9c-fe91c9241331"
      },
      "source": [
        "print(corpus)"
      ],
      "execution_count": 10,
      "outputs": [
        {
          "output_type": "stream",
          "text": [
            "['seri escapad demonstr adag good goos also good gander occasion amus none amount much stori', 'seri escapad demonstr adag good goos', 'seri', '', 'seri', 'escapad demonstr adag good goos', '', 'escapad demonstr adag good goos', 'escapad', 'demonstr adag good goos', 'demonstr adag', 'demonstr', 'adag', '', 'adag', 'good goos', '', 'good goos', '', 'good goos', '', 'good goos', 'good', 'goos', '', 'goos', 'goos', 'also good gander occasion amus none amount much stori', 'also good gander occasion amus none amount much stori', 'also', 'also', 'good gander occasion amus none amount much stori', 'gander occasion amus none amount much stori', 'gander occasion amus none amount much stori', 'gander', 'gander', 'gander', '', 'occasion amus none amount much stori', '', '', '', '', 'occasion amus none amount much stori', 'occasion', 'amus none amount much stori', 'amus', 'none amount much stori', '', 'none amount much stori', 'none', 'amount much stori', 'amount much stori', 'amount much stori', 'amount', 'much stori', '', 'much stori', 'much', 'stori', 'stori', 'stori', '', 'quiet introspect entertain independ worth seek', 'quiet introspect entertain independ', '', 'quiet introspect entertain independ', 'quiet introspect entertain', 'quiet', 'introspect entertain', 'introspect entertain', 'introspect', 'introspect', '', 'entertain', 'independ', 'worth seek', 'worth seek', 'worth', 'worth', 'seek', 'even fan ismail merchant work suspect would hard time sit one', 'even fan ismail merchant work', 'even fan', 'even', 'fan', 'ismail merchant work', 'ismail merchant work', 'ismail merchant', 'ismail', 'merchant', 'merchant', '', 'work', 'suspect would hard time sit one', 'suspect', 'suspect', 'suspect', '', 'suspect', 'would hard time sit one', 'would hard time sit one', 'would', 'hard time sit one', '', 'hard time sit one', 'hard time', 'hard time', 'hard', 'time', 'sit one', 'sit', 'one', '', 'one', 'one', 'posit thrill combin ethnographi intrigu betray deceit murder shakespearean tragedi juici soap opera', 'posit thrill combin ethnographi intrigu betray deceit murder shakespearean tragedi juici soap opera', 'posit thrill combin ethnographi intrigu betray deceit murder', 'posit thrill combin', 'posit thrill combin', 'posit', 'thrill combin', 'thrill', 'combin', 'ethnographi intrigu betray deceit murder', 'ethnographi intrigu betray deceit murder', 'ethnographi', 'ethnographi', 'intrigu betray deceit murder', '', 'intrigu betray deceit murder', 'intrigu betray deceit murder', 'intrigu', 'betray deceit murder', 'betray deceit murder', 'betray', 'deceit murder', 'deceit murder', 'deceit', 'deceit', 'murder', 'shakespearean tragedi juici soap opera', 'shakespearean tragedi juici soap opera', 'shakespearean tragedi', 'shakespearean tragedi', 'shakespearean tragedi', 'shakespearean', 'tragedi', '', 'juici soap opera', 'juici soap opera', 'juici', 'soap opera', 'soap', 'opera', 'aggress self glorif manipul whitewash', 'aggress self glorif manipul whitewash', 'aggress', 'self glorif manipul whitewash', 'self glorif', 'self glorif', 'manipul whitewash', 'manipul whitewash', 'manipul', 'whitewash', 'comedi drama nearli epic proport root sincer perform titl charact undergo midlif crisi', 'comedi drama nearli epic proport', 'comedi drama', 'comedi drama', 'nearli epic proport', 'nearli epic proport', 'nearli epic', 'nearli', 'epic', 'proport', 'root sincer perform titl charact undergo midlif crisi', 'root sincer perform titl charact undergo midlif crisi', 'root sincer perform', 'root', 'sincer perform', '', 'sincer perform', 'sincer perform', 'sincer', 'perform', 'titl charact undergo midlif crisi', '', 'titl charact undergo midlif crisi', 'titl charact', 'titl charact', 'titl', 'charact', 'undergo midlif crisi', 'undergo', 'midlif crisi', 'midlif', 'crisi', 'narr troubl everi day plod mess', 'narr', 'troubl everi day plod mess', 'troubl everi day plod mess', 'troubl everi day', 'troubl', 'everi day', 'everi', 'day', 'plod mess', 'plod mess', 'plod mess', 'plod mess', 'plod', 'mess', 'import earnest thick wit play like read bartlett familiar quotat', 'import', 'import', 'earnest thick wit play like read bartlett familiar quotat', 'earnest thick wit play like read bartlett familiar quotat', '', 'earnest thick wit play like read bartlett familiar quotat', 'earnest', 'earnest', 'thick wit play like read bartlett familiar quotat', '', 'thick wit play like read bartlett familiar quotat', 'thick', 'wit play like read bartlett familiar quotat', '', 'wit play like read bartlett familiar quotat', 'wit', 'play like read bartlett familiar quotat', '', 'play like read bartlett familiar quotat', 'play', 'like read bartlett familiar quotat', 'like', 'read bartlett familiar quotat', 'read', 'read', 'bartlett familiar quotat', '', 'bartlett familiar quotat', 'bartlett', 'bartlett', 'familiar quotat', 'familiar', 'quotat', 'n leav much', 'n leav much', 'n leav much', 'n leav much', 'n', '', 'n', 'leav much', 'leav', 'leav', '', 'much', 'could hate reason', 'could hate reason', 'could hate reason', 'could', 'hate reason', 'hate', 'hate', 'reason', 'reason', 'reason', '', 'reason', 'littl recommend snow dog unless one consid clich dialogu pervers escap sourc high hilar', '', 'littl recommend snow dog unless one consid clich dialogu pervers escap sourc high hilar', 'littl recommend snow dog unless one consid clich dialogu pervers escap sourc high hilar', 'littl recommend snow dog', 'littl recommend snow dog', 'littl recommend snow dog', 'littl', 'recommend snow dog', 'recommend snow dog', 'recommend', 'snow dog', 'snow', 'dog', 'unless one consid clich dialogu pervers escap sourc high hilar', 'unless', 'one consid clich dialogu pervers escap sourc high hilar', 'consid clich dialogu pervers escap sourc high hilar', 'consid', 'clich dialogu pervers escap sourc high hilar', 'clich dialogu pervers escap', 'clich dialogu', 'clich dialogu', 'clich', 'dialogu', 'pervers escap', 'pervers', 'escap', 'sourc high hilar', 'sourc', 'sourc', 'high hilar', 'high hilar', 'high', 'hilar', 'kung pow oedekerk realiz childhood dream martial art flick prove sometim dream youth remain', 'kung pow', 'kung', 'pow', 'oedekerk realiz childhood dream martial art flick prove sometim dream youth remain', 'oedekerk realiz childhood dream martial art flick prove sometim dream youth remain', 'oedekerk realiz childhood dream martial art flick', 'oedekerk realiz childhood dream martial art flick', 'oedekerk realiz childhood dream martial art flick', 'oedekerk realiz childhood dream martial art flick', 'oedekerk realiz childhood dream', 'oedekerk realiz', 'oedekerk', 'oedekerk', 'realiz', 'childhood dream', 'childhood dream', '', 'childhood dream', 'childhood', 'dream', 'martial art flick', 'martial art flick', '', 'martial art flick', 'martial art flick', 'martial art flick', 'martial art', 'flick', 'prove sometim dream youth remain', 'prove', 'sometim dream youth remain', 'sometim dream youth remain', 'sometim', 'dream youth remain', 'dream youth', 'dream', 'dream', 'youth', 'youth', 'remain', '', 'remain', 'remain', '', '', 'perform absolut joy', 'perform', 'perform', 'absolut joy', 'absolut joy', '', 'absolut joy', '', 'absolut joy', 'absolut', 'joy', 'fresnadillo someth seriou say way extravag chanc distort perspect throw us path good sens', 'fresnadillo', 'someth seriou say way extravag chanc distort perspect throw us path good sens', 'someth seriou say way extravag chanc distort perspect throw us path good sens', '', 'someth seriou say way extravag chanc distort perspect throw us path good sens', 'someth', 'seriou say way extravag chanc distort perspect throw us path good sens', 'seriou', 'say way extravag chanc distort perspect throw us path good sens', 'say way extravag chanc distort perspect throw us path good sens', 'say', 'way extravag chanc distort perspect throw us path good sens', '', 'way extravag chanc distort perspect throw us path good sens', 'way', 'way', 'extravag chanc distort perspect throw us path good sens', '', 'extravag chanc distort perspect throw us path good sens', 'extravag chanc', 'extravag', 'chanc', 'distort perspect throw us path good sens', '', 'distort perspect throw us path good sens', 'distort perspect', 'distort perspect', 'distort', 'perspect', '', 'perspect', 'throw us path good sens', 'throw us', 'throw', 'us', 'path good sens', '', 'path good sens', 'path', 'path', 'good sens', 'good sens', 'sens', 'still like moonlight mile better judgment damn', 'still like moonlight mile better judgment damn', 'still', 'like moonlight mile better judgment damn', 'like moonlight mile better judgment damn', 'moonlight mile better judgment damn', 'moonlight mile better judgment', 'moonlight', 'mile better judgment', 'mile', 'better judgment', 'better judgment', 'better', 'judgment', 'damn', 'damn', 'welcom relief basebal movi tri hard mythic one sweet modest ultim win stori', 'welcom relief basebal movi tri hard mythic', 'welcom relief', 'welcom relief', 'welcom', 'relief', 'basebal movi tri hard mythic', 'basebal movi tri hard mythic', 'basebal movi', 'basebal', 'movi', 'tri hard mythic', 'tri hard mythic', 'tri', 'hard mythic', '', 'hard mythic', 'mythic', 'mythic', 'mythic', 'one sweet modest ultim win stori', 'one sweet modest ultim win stori', 'sweet modest ultim win stori', 'sweet modest ultim win stori', 'sweet modest ultim win stori', 'sweet modest', 'sweet modest', 'sweet modest', 'sweet', 'sweet', 'modest', 'ultim win stori', 'ultim', 'win stori', 'win', 'bilingu charmer like woman inspir', 'bilingu charmer', 'bilingu charmer', 'bilingu charmer', 'bilingu', 'charmer', 'like woman inspir', 'like woman inspir', 'woman inspir', 'woman', 'woman', 'inspir', '', 'inspir', 'inspir', 'like less dizzili gorgeou companion mr wong mood love much hong kong movi despit mainland set', 'like less dizzili gorgeou companion mr', 'less dizzili gorgeou companion mr', 'less dizzili gorgeou companion', 'less dizzili gorgeou companion', 'less dizzili gorgeou', 'less', 'dizzili gorgeou', 'dizzili', 'gorgeou', 'companion', 'mr', 'mr', 'wong mood love much hong kong movi despit mainland set', 'wong', 'mood love much hong kong movi despit mainland set', 'mood love much hong kong movi despit mainland set', 'mood love much hong kong movi', 'mood love much hong kong movi', 'mood love much hong kong movi', 'mood', 'mood', 'love much hong kong movi', 'love much hong kong movi', 'love much', 'love', 'love', '', 'much', '', 'hong kong movi', 'hong kong movi', 'hong', 'kong movi', 'kong', 'movi', 'despit mainland set', 'despit', 'mainland set', '', 'mainland set', 'mainland', 'set', 'inept big screen remak aveng wild wild west', 'inept big screen remak aveng wild wild west', 'inept', '', 'inept', 'big screen remak aveng wild wild west', 'big screen remak aveng wild wild west', 'big screen remak', 'big screen', 'remak', 'aveng wild wild west', 'aveng wild wild west', 'aveng', 'aveng', 'aveng', 'wild wild west', 'wild wild west', 'wild', 'wild west', 'west', 'everyth expect noth', 'everyth expect noth', 'everyth expect noth', 'everyth expect noth', 'everyth', 'expect noth', 'expect noth', '', 'expect noth', 'expect noth', 'expect', 'expect', 'noth', 'noth', '', 'best indi year far', 'best', 'indi year far', 'indi year far', 'indi year', 'indi year', 'indi', 'year', 'year', 'year', 'far', 'far', 'hatfield hick make oddest coupl sens movi becom studi gambl publish world offer case studi exist apart movi polit ramif', 'hatfield hick make oddest coupl sens movi becom studi gambl publish world offer case studi exist apart movi polit ramif', 'hatfield hick make oddest coupl', 'hatfield hick make oddest coupl', 'hatfield hick make oddest coupl', 'hatfield hick', 'hatfield', 'hatfield', 'hick', 'make oddest coupl', 'make', 'oddest coupl', 'oddest', 'oddest', 'coupl', 'coupl', 'sens movi becom studi gambl publish world offer case studi exist apart movi polit ramif', 'sens', 'sens', 'movi becom studi gambl publish world offer case studi exist apart movi polit ramif', 'movi', 'becom studi gambl publish world offer case studi exist apart movi polit ramif', 'becom studi gambl publish world', 'becom studi gambl publish world', 'becom', 'studi gambl publish world', 'studi', 'studi', 'gambl publish world', 'gambl publish world', 'gambl', 'gambl', 'publish world', 'publish world', 'publish world', 'publish', 'world', 'offer case studi exist apart movi polit ramif', 'offer', 'case studi exist apart movi polit ramif', 'case studi', 'case studi', 'case', 'exist apart movi polit ramif', 'exist apart movi polit ramif', 'exist apart', 'exist', 'apart', 'movi polit ramif', 'movi polit ramif', 'movi polit ramif', 'movi', 'movi', 'polit ramif', 'polit', 'ramif', 'like go hous parti watch host defend froth ex girlfriend', 'like go hous parti watch host defend froth ex girlfriend', 'like go hous parti watch host defend froth ex girlfriend', 'like go hous parti watch host defend froth ex girlfriend', 'go hous parti watch host defend froth ex girlfriend', 'go hous parti', 'go hous parti', 'go', 'hous parti', 'hous parti', 'hous parti', 'hous', 'parti', 'watch host defend froth ex girlfriend', 'watch', 'host defend froth ex girlfriend', 'host', 'host', 'defend froth ex girlfriend', 'defend', 'defend', '', 'froth ex girlfriend', '', 'froth ex girlfriend', 'froth ex girlfriend', 'froth', 'ex girlfriend', 'chuck norri grenad gag occur time windtalk good indic seriou mind film', 'chuck norri grenad gag', 'chuck norri grenad gag', 'chuck norri grenad gag', 'chuck', 'norri grenad gag', 'norri', 'grenad gag', '', 'grenad gag', 'grenad', 'gag', 'gag', '', 'occur time windtalk good indic seriou mind film', 'occur time windtalk good indic seriou mind film', 'occur', 'time windtalk good indic seriou mind film', 'time windtalk', 'time', 'time', '', 'time', 'windtalk', '', 'windtalk', 'good indic seriou mind film', 'good indic seriou mind film', 'good indic', 'good indic', 'indic', 'seriou mind film', 'seriou mind film', '', 'seriou mind film', 'seriou mind film', 'seriou mind', 'film', 'film', 'plot romant comedi boilerpl start finish', 'plot', 'plot', 'romant comedi boilerpl start finish', 'romant comedi boilerpl start finish', 'romant comedi boilerpl start finish', 'romant comedi boilerpl start', 'romant comedi boilerpl', 'romant', 'comedi boilerpl', 'comedi', 'boilerpl', 'start', 'start', 'finish', 'finish', 'arriv impecc pedigre mongrel pep almost indecipher plot complic', 'arriv impecc pedigre mongrel pep almost indecipher plot complic', 'arriv impecc pedigre mongrel pep almost indecipher plot complic', 'arriv', 'impecc pedigre mongrel pep almost indecipher plot complic', 'impecc pedigre mongrel pep almost indecipher plot complic', 'impecc pedigre mongrel pep almost', 'impecc pedigre mongrel pep', 'impecc pedigre mongrel pep', 'impecc pedigre mongrel pep', 'impecc pedigre mongrel pep', 'impecc', 'pedigre mongrel pep', 'pedigre', 'mongrel pep', 'mongrel pep', 'mongrel', 'pep', 'almost', 'indecipher plot complic', 'indecipher', 'plot complic', 'complic', 'film clearli mean preach exclus convert', 'film clearli mean', 'film', 'clearli mean', 'clearli mean', 'clearli', 'mean', 'mean', 'preach exclus convert', 'preach exclus convert', 'preach exclus', 'preach', 'exclus', 'convert', 'convert', 'convert', 'import earnest offer opportun occasion smile chuckl n give us reason theater beyond wild wit actor perform', 'import earnest offer opportun occasion smile chuckl', '', 'import earnest offer opportun occasion smile chuckl', 'import earnest', 'earnest', 'earnest', 'offer opportun occasion smile chuckl', 'offer opportun occasion smile', 'offer opportun occasion smile', 'offer', 'opportun occasion smile', 'opportun', 'occasion smile', 'occasion smile', 'occasion', 'smile', 'chuckl', 'n give us reason theater beyond wild wit actor perform', 'n give us reason theater beyond wild wit actor perform', 'n give us reason theater beyond wild wit actor perform', 'n give us reason theater beyond wild wit actor perform', 'give us reason theater beyond wild wit actor perform', 'give us', 'give', 'reason theater beyond wild wit actor perform', 'reason theater beyond wild wit actor perform', 'theater beyond wild wit actor perform', 'theater beyond wild wit actor perform', 'theater', 'theater', 'theater', 'theater', 'beyond wild wit actor perform', 'beyond', 'wild wit actor perform', 'wild wit', 'wild wit', 'wild', 'wild', 'actor perform', 'actor', 'actor', 'actor', '', 'latest vapid actor exercis appropri structur arthur schnitzler reigen', 'latest', 'latest', 'vapid actor exercis appropri structur arthur schnitzler reigen', 'vapid actor exercis appropri structur arthur schnitzler reigen', 'vapid actor exercis', 'vapid', 'actor exercis', 'actor', 'actor', 'exercis', 'appropri structur arthur schnitzler reigen', 'appropri structur arthur schnitzler reigen', 'appropri structur', 'appropri', 'structur', 'structur', 'arthur schnitzler reigen', 'arthur schnitzler reigen', 'arthur schnitzler', 'arthur', 'schnitzler', 'schnitzler', 'reigen', 'vaudevil show well construct narr term inoffens actual rather sweet', 'vaudevil show well construct narr term inoffens actual rather sweet', 'vaudevil show well construct narr', 'vaudevil show well construct narr', 'vaudevil show well construct narr', 'vaudevil', 'vaudevil', 'show well construct narr', 'show', 'well construct narr', '', 'well construct narr', 'well construct', 'narr', 'term inoffens actual rather sweet', 'term', '', 'term', '', 'term', 'inoffens actual rather sweet', 'inoffens actual rather sweet', 'inoffens actual rather sweet', 'inoffens actual', 'inoffens', 'inoffens', 'actual', 'rather sweet', 'rather', 'noth run mill action flick', 'run mill action flick', 'run mill action', 'run mill action', 'run mill action', 'run mill action', 'run mill', 'action', 'flick', 'hamper paralyz self indulg script aim poetri end sound like satir', 'hamper paralyz self indulg script aim poetri end sound like satir', 'hamper paralyz self indulg script', 'hamper paralyz self indulg script', 'hamper paralyz', 'hamper', 'paralyz', 'paralyz', 'paralyz', '', 'paralyz', 'paralyz', 'self indulg script', 'self indulg script', 'self indulg script', 'self indulg', 'script', '', 'aim poetri end sound like satir', 'aim poetri end sound like satir', 'aim poetri', 'aim poetri', 'aim', 'poetri', 'poetri', 'end sound like satir', 'end', 'end', '', 'sound like satir', 'sound', 'like satir', 'satir', 'ice age first comput gener featur cartoon feel like movi make glacial pace earli', 'ice age first comput gener featur cartoon feel like movi make glacial pace earli', 'ice age first comput gener featur cartoon feel like movi', 'ice age first comput gener featur cartoon feel like movi', 'ice age first comput gener featur cartoon feel like movi', 'ice age', 'ice', 'age', 'first comput gener featur cartoon feel like movi', 'first comput gener featur cartoon feel like movi', 'first comput gener featur cartoon', 'first comput gener featur cartoon', 'first', 'comput gener featur cartoon', 'comput gener', 'featur cartoon', 'featur', 'cartoon', 'feel like movi', 'feel like movi', 'feel', 'like movi', 'movi', '', 'make glacial pace earli', 'make glacial pace earli', 'make glacial pace', 'make', 'glacial pace', 'glacial pace', 'glacial pace', 'glacial', 'pace', 'earli', 'earli', 'littl sens go maker serv clich consider dash', 'littl sens go maker serv clich consider dash', 'littl sens go', 'littl sens go', 'littl sens go', 'littl sens go', 'littl sens go', 'littl sens', 'littl', 'go', 'go', 'go', 'go', 'go', '', 'maker serv clich consider dash', 'maker', 'maker', 'serv clich consider dash', 'serv', 'serv', 'clich consider dash', 'clich', 'clich', 'consider dash', 'consider dash', 'consider', 'dash', 'cattaneo follow runaway success first film full monti someth differ', 'cattaneo', 'follow runaway success first film full monti someth differ', 'follow runaway success first film full monti someth differ', 'follow runaway success first film full monti someth differ', 'follow runaway success first film full monti someth differ', 'follow runaway success first film full monti', 'follow', 'runaway success first film full monti', 'runaway success', 'runaway success', 'runaway', 'success', 'first film full monti', 'first film full monti', 'first film full monti', 'first film', 'first film', 'first film', 'full monti', 'full monti', 'full', 'monti', 'someth differ', 'someth differ', 'differ', 'unnam easili substitut forc serv whatev terror hero horror movi tri avoid', '', 'unnam easili substitut forc serv whatev terror hero horror movi tri avoid', 'unnam easili substitut forc serv whatev terror hero horror movi tri avoid', '', 'unnam easili substitut forc serv whatev terror hero horror movi tri avoid', 'unnam easili substitut forc', 'unnam easili substitut forc', 'unnam easili substitut', 'unnam', 'easili substitut', 'easili substitut', 'easili', 'substitut', 'forc', 'serv whatev terror hero horror movi tri avoid', 'serv whatev terror hero horror movi tri avoid', 'whatev terror hero horror movi tri avoid', 'whatev terror hero horror movi tri avoid', 'whatev', 'terror hero horror movi tri avoid', 'terror', 'hero horror movi tri avoid', 'hero horror movi', 'hero', 'hero', 'horror movi', 'horror movi', 'horror', 'tri avoid', 'avoid', 'avoid', 'almost feel movi interest entertain amus us', 'almost feel movi interest entertain amus us', 'feel movi interest entertain amus us', 'feel movi interest entertain amus us', 'feel', 'movi interest entertain amus us', 'movi interest entertain amus us', '', 'movi interest entertain amus us', 'interest entertain amus us', 'interest entertain amus us', 'interest entertain', 'interest entertain', 'interest', 'entertain', 'entertain', '', 'amus us', 'amus us', 'amus us', 'amus', 'movi progress rambl incoher give new mean phrase fatal script error', 'movi progress rambl incoher', 'movi progress', 'progress', 'rambl incoher', '', 'rambl incoher', 'rambl', 'incoher', 'give new mean phrase fatal script error', 'give new mean phrase fatal script error', 'give new mean phrase fatal script error', 'give new mean', 'give', 'new mean', 'new', 'mean', 'phrase fatal script error', 'phrase fatal script error', 'phrase fatal script error', 'phrase', 'fatal script error', '', 'fatal script error', 'fatal', 'script error', 'error', 'n judg one soon dark gritti stori take total unexpect direct keep go', 'n judg one soon dark gritti stori take total unexpect direct keep go', 'n judg one soon', 'n judg one soon', 'n', '', 'judg one soon', 'judg one', 'judg', 'soon', 'soon', '', 'dark gritti stori take total unexpect direct keep go', 'dark gritti stori', 'dark gritti stori', 'dark gritti stori', 'dark gritti stori', 'dark gritti stori', 'dark', 'gritti stori', 'gritti stori', 'gritti', 'take total unexpect direct keep go', 'take total unexpect direct keep go', 'take total unexpect direct', 'take total unexpect direct', 'take', 'take', 'total unexpect direct', 'total unexpect direct', 'total unexpect', 'total', 'unexpect', 'direct', 'keep go', 'keep', 'go', 'could young romant date', 'could young romant date', 'could young romant date', 'young romant date', 'young romant', 'young', 'romant', 'date', '', 'date', 'date', 'date', 'tartakovski team freakish power visual charm five writer slip modern rut narr banal', 'tartakovski team freakish power visual charm five writer slip modern rut narr banal', 'tartakovski team freakish power visual charm', 'tartakovski team freakish power visual charm', 'tartakovski team freakish power visual charm', 'tartakovski team', 'tartakovski', 'tartakovski', 'team', 'freakish power visual charm', 'freakish power visual charm', 'freakish power', 'freakish power', 'freakish', 'power', 'visual charm', 'visual charm', 'visual', 'charm', 'five writer slip modern rut narr banal', 'five writer', 'five writer', 'five', 'writer', 'slip modern rut narr banal', 'slip', 'modern rut narr banal', 'modern rut narr banal', 'modern rut', 'modern rut', 'modern', 'rut', 'narr banal', 'narr banal', 'banal', 'vincent gallo right home french shocker play usual bad boy weirdo role', 'vincent gallo', 'vincent', 'gallo', 'right home french shocker play usual bad boy weirdo role', 'right home french shocker play usual bad boy weirdo role', 'right home french shocker', 'right home french shocker', 'right home', 'right', 'home', '', 'home', 'french shocker', 'french shocker', 'french shocker', 'french', 'shocker', 'play usual bad boy weirdo role', 'play', 'usual bad boy weirdo role', 'usual bad boy weirdo role', 'usual', 'bad boy weirdo role', 'bad', 'boy weirdo role', 'boy', 'weirdo role', 'weirdo', 'role', 'horror movi primari goal frighten disturb work spectacularli well shiver induc nerv rattl ride', 'horror movi primari goal frighten disturb', 'horror movi primari goal frighten disturb', 'horror movi primari goal', 'horror movi', 'horror movi', 'primari goal', 'primari', 'goal', 'frighten disturb', 'frighten disturb', 'frighten disturb', 'frighten', 'frighten', 'disturb', 'work spectacularli well shiver induc nerv rattl ride', 'work spectacularli well shiver induc nerv rattl ride', '', 'work spectacularli well shiver induc nerv rattl ride', 'work spectacularli well shiver induc nerv rattl ride', 'work spectacularli well shiver induc nerv rattl ride', 'work spectacularli well', 'work spectacularli well', 'work', 'spectacularli well', 'spectacularli', 'well', 'shiver induc nerv rattl ride', 'shiver induc', 'shiver induc', 'shiver induc', 'nerv rattl ride', 'nerv rattl', 'ride', 'minut movi minut decent materi', 'minut movi', 'minut movi', 'minut', 'minut decent materi', '', 'minut decent materi', 'minut decent materi', 'minut decent materi', 'minut', '', '', 'minut', 'decent materi', 'decent materi', 'decent', 'materi', 'fortun still option', 'fortun', 'still option', 'still option', 'still option', 'option', 'option', 'option', 'option', 'less sensat true crime hell jaunt purist might like experiment storytel lrb though less horrifi rrb', 'sensat true crime hell jaunt purist might like experiment storytel lrb though less horrifi rrb', 'sensat true crime hell jaunt purist might like experiment storytel lrb though less horrifi rrb', 'sensat true crime hell jaunt purist might like experiment storytel', 'sensat true crime', 'sensat true crime', 'sensat', 'true crime', 'hell jaunt purist might like experiment storytel', 'hell jaunt purist', 'hell jaunt', 'purist', 'might like experiment storytel', 'might', 'like experiment storytel', 'like', 'experiment storytel', 'experiment', 'experiment', 'storytel', 'storytel', 'storytel', 'lrb though less horrifi rrb', 'lrb', 'though less horrifi rrb', 'though', 'though', 'less horrifi rrb', 'less horrifi', 'horrifi', 'horrifi', '', 'rrb', 'tricki satisfi david mamet airless cinemat shell game', 'tricki satisfi david', 'tricki satisfi david', 'tricki satisfi', 'tricki', 'tricki', 'satisfi', 'david', 'david', '', 'david', 'david', 'mamet airless cinemat shell game', 'mamet', 'mamet', 'airless cinemat shell game', 'airless cinemat shell game', 'airless', 'cinemat shell game', 'cinemat', 'shell game', 'shell', 'game', 'sure filmmak would disagre honestli n see point', 'sure filmmak would disagre honestli n see point', 'sure filmmak would disagre honestli n see point', '', 'sure filmmak would disagre honestli n see point', 'sure', 'filmmak would disagre honestli n see point', 'filmmak would disagre', 'filmmak would disagre', 'filmmak would disagre', 'filmmak would disagre', 'filmmak', 'filmmak', 'would disagre', 'disagre', 'honestli n see point', 'honestli', 'n see point', 'n see point', 'n see point', 'see point', 'see', 'point', 'point', 'jone tackl meati subject drawn engag charact pepper page memor zinger', 'jone', 'tackl meati subject drawn engag charact pepper page memor zinger', 'tackl meati subject drawn engag charact pepper page memor zinger', 'tackl meati subject drawn engag charact pepper page memor zinger', 'tackl meati subject', 'tackl meati subject', 'tackl', 'meati subject', 'meati subject', 'meati', 'subject', 'drawn engag charact pepper page memor zinger', 'drawn engag charact', 'drawn', 'engag charact', 'engag', 'charact', 'pepper page memor zinger', 'pepper page memor zinger', 'pepper page', 'pepper', 'page', 'page', 'memor zinger', 'memor zinger', 'memor', 'zinger', 'bloodi sunday grace call prevent rather place blame make one best war movi ever made', 'bloodi sunday', 'bloodi', 'sunday', 'grace call prevent rather place blame make one best war movi ever made', 'grace call prevent rather place blame make one best war movi ever made', 'grace call prevent rather place blame make one best war movi ever made', 'grace call prevent rather place blame make one best war movi ever made', 'grace', 'call prevent rather place blame make one best war movi ever made', 'call prevent rather place blame make one best war movi ever made', 'call prevent rather place blame', 'call prevent rather place blame', 'call', 'prevent rather place blame', 'prevent rather', 'prevent', 'prevent', 'rather', 'place blame', 'place blame', 'place', 'blame', 'make one best war movi ever made', 'make', 'one best war movi ever made', 'one best war movi ever made', 'best war movi ever made', 'best war movi ever made', 'best war movi', 'best war movi', 'war movi', 'war', 'ever made', 'ever', 'made', 'take clunki tv movi approach detail chapter life celebr irish playwright poet drinker', 'take clunki tv movi approach detail chapter life celebr irish playwright poet drinker', 'clunki tv movi approach detail chapter life celebr irish playwright poet drinker', 'clunki tv movi approach', 'clunki tv movi approach', 'clunki tv movi', 'clunki', 'tv movi', 'approach', 'detail chapter life celebr irish playwright poet drinker', 'detail chapter life celebr irish playwright poet drinker', 'detail chapter', 'detail', 'chapter', 'chapter', 'life celebr irish playwright poet drinker', 'life celebr irish playwright poet drinker', 'life', 'life', 'celebr irish playwright poet drinker', 'celebr irish playwright poet drinker', 'celebr irish playwright poet drinker', 'celebr', 'irish playwright poet drinker', 'irish', 'playwright poet drinker', 'playwright', 'poet drinker', 'poet drinker', 'poet', 'poet', 'drinker', 'final come miramax deep shelv coupl abort attempt wake reno make strong case let sleep dog lie', 'final', 'come miramax deep shelv coupl abort attempt wake reno make strong case let sleep dog lie', 'come miramax deep shelv coupl abort attempt wake reno make strong case let sleep dog lie', 'come miramax deep shelv coupl abort attempt wake reno make', 'come miramax deep shelv coupl abort attempt wake reno', 'come miramax deep shelv coupl abort attempt', 'come miramax deep shelv coupl abort attempt', 'come miramax deep shelv', 'come', 'come', '', '', 'miramax deep shelv', 'miramax deep shelv', 'miramax', 'miramax', 'deep shelv', 'deep', 'shelv', 'coupl abort attempt', '', 'coupl abort attempt', 'coupl', 'coupl', 'abort attempt', 'abort attempt', 'abort', 'attempt', 'wake reno', 'wake', 'wake', 'reno', 'reno', 'strong case let sleep dog lie', 'strong case', 'strong case', 'strong', 'let sleep dog lie', 'let sleep dog lie', 'let', 'sleep dog lie', 'sleep dog', 'sleep', 'lie', 'thank larg william interest develop process minut rest overexpos wast film', 'thank larg william interest develop process minut rest overexpos wast film', 'thank larg william interest develop process minut', 'thank larg william interest develop process minut', 'thank larg william', 'thank larg', 'thank', 'larg', 'william', 'william', 'interest develop process minut', 'interest develop process minut', 'interest develop', 'interest develop', 'interest develop', 'interest', 'develop', 'process minut', 'process minut', 'process', 'minut', 'minut', '', 'rest overexpos wast film', 'rest', 'rest', 'overexpos wast film', '', 'overexpos wast film', 'overexpos wast', 'overexpos wast', 'overexpos', 'wast', 'film', 'come across relic bygon era convolut feel silli rather plausibl', 'come across relic bygon era convolut feel silli rather plausibl', 'come across', 'come', 'across', 'relic bygon era convolut feel silli rather plausibl', 'relic bygon era convolut feel silli rather plausibl', 'relic bygon era convolut feel', 'relic bygon era convolut feel', 'relic bygon era convolut', 'relic', 'bygon era convolut', 'bygon era convolut', 'bygon era convolut', 'bygon era', 'bygon era', 'bygon era', 'bygon era', 'bygon', 'era', 'convolut', 'convolut', 'silli rather plausibl', 'silli rather', 'silli', 'plausibl', 'perhap clich call film refresh', 'perhap clich call film refresh', 'perhap clich call film refresh', 'perhap clich call film refresh', 'perhap clich call film refresh', 'perhap clich call film refresh', 'perhap', 'clich call film refresh', 'clich call film refresh', 'clich call film refresh', 'clich', 'call film refresh', 'call film refresh', 'film refresh', 'refresh', 'refresh', '', 'lead perform oscar size', 'lead perform', '', 'lead perform', 'lead', 'oscar size', 'oscar size', 'oscar size', 'run live', 'run live', 'run', 'live', 'live', '', 'live', '', 'mark pellington latest pop thriller kooki overeag spooki subtli love myth', 'mark pellington latest pop thriller', 'mark pellington', 'mark', 'pellington', 'pellington', 'latest pop thriller', 'pop thriller', 'pop', 'thriller', 'kooki overeag spooki subtli love myth', 'kooki overeag spooki subtli love myth', 'kooki overeag spooki subtli love myth', 'kooki overeag spooki subtli love myth', 'kooki overeag', 'kooki', 'kooki', 'overeag', 'spooki subtli love myth', 'spooki subtli love myth', 'spooki subtli love myth', 'spooki subtli', 'spooki subtli', 'spooki', 'spooki', 'subtli', 'love myth', 'love myth', 'myth', 'myth', 'claud chabrol camera way gentli sway back forth cradl charact veil tension beneath otherwis tender movement', 'claud chabrol camera', 'claud chabrol', 'claud', 'chabrol', 'chabrol', 'camera', 'way gentli sway back forth cradl charact veil tension beneath otherwis tender movement', 'way gentli sway back forth cradl charact veil tension beneath otherwis tender movement', 'way gentli sway back forth cradl charact veil tension beneath otherwis tender movement', 'way', 'way', 'gentli sway back forth cradl charact veil tension beneath otherwis tender movement', 'gentli sway back forth cradl charact veil tension beneath otherwis tender movement', 'gentli', 'sway back forth cradl charact veil tension beneath otherwis tender movement', 'sway back forth', 'sway', 'back forth', 'back', 'back', 'forth', 'cradl charact veil tension beneath otherwis tender movement', 'cradl charact veil tension beneath otherwis tender movement', 'cradl charact veil tension beneath otherwis tender movement', 'cradl charact', 'cradl charact', 'cradl', 'charact', 'veil tension beneath otherwis tender movement', 'veil tension', 'veil', 'tension', 'beneath otherwis tender movement', 'beneath', 'otherwis tender movement', 'otherwis', 'tender movement', 'tender', 'movement', 'transform one lrb shakespear rrb deepest tragedi smart new comedi', 'transform one lrb shakespear rrb deepest tragedi smart new comedi', 'transform one lrb shakespear rrb deepest tragedi', 'transform one', 'transform', 'lrb shakespear rrb deepest tragedi', 'lrb shakespear rrb deepest tragedi', 'lrb shakespear rrb', 'shakespear rrb', 'shakespear', 'shakespear', 'deepest tragedi', 'deepest', 'tragedi', 'smart new comedi', 'smart new comedi', 'smart new comedi', 'smart', 'new comedi', 'screenplay jame eric jame horton director peter fallon pat make teeth hurt', 'screenplay jame eric jame horton director peter fallon', 'screenplay', 'screenplay', 'jame eric jame horton director peter fallon', 'jame eric jame horton director peter fallon', 'jame eric jame horton', 'jame eric jame horton', 'jame eric', 'jame eric', 'jame', 'eric', 'jame horton', 'horton', 'director peter fallon', 'director', 'peter fallon', 'peter', 'fallon', 'pat make teeth hurt', 'pat make teeth hurt', 'pat make teeth hurt', 'pat make teeth hurt', 'pat make teeth hurt', 'pat', 'make teeth hurt', 'make teeth hurt', 'teeth hurt', 'teeth', 'teeth', 'hurt', 'arriv particularli dark moment histori offer flicker remind tie bind us', 'arriv particularli dark moment histori offer flicker remind tie bind us', 'arriv particularli dark moment histori', 'arriv', 'particularli dark moment histori', 'particularli dark moment histori', 'particularli dark moment', 'particularli dark moment', 'particularli dark', 'particularli', 'moment', 'histori', 'histori', 'offer flicker remind tie bind us', 'offer flicker remind tie bind us', 'offer flicker remind tie bind us', 'offer flicker remind tie bind us', 'flicker remind tie bind us', 'flicker remind tie', 'flicker remind', 'flicker', 'remind', 'tie', 'tie', 'tie', 'bind us', 'bind us', 'bind', 'gener villain lack intrigu lrb funni accent rrb action scene poorli deliv', 'gener villain lack intrigu lrb funni accent rrb action scene poorli deliv', 'gener villain lack intrigu lrb funni accent rrb', 'gener villain lack intrigu lrb funni accent rrb', 'gener villain', 'gener villain', 'gener', 'villain', 'lack intrigu lrb funni accent rrb', 'lack', 'intrigu lrb funni accent rrb', 'intrigu', 'lrb funni accent rrb', 'funni accent rrb', 'funni accent', 'funni accent', 'funni accent', '', 'funni accent', 'funni', 'accent', 'action scene poorli deliv', 'action scene', 'action scene', 'scene', 'poorli deliv', 'poorli', 'poorli', 'deliv', 'charact deepli thought right think film', 'charact', 'deepli thought right think film', 'deepli thought right think film', 'deepli', 'deepli', 'deepli', 'thought right think film', 'thought', 'right think film', 'right think film', '', '', '', 'right think film', 'right think film', 'right think', 'film', 'film', 'film despit gratuit cinemat distract impress upon still good fun', 'despit gratuit cinemat distract impress upon still good fun', 'despit gratuit cinemat distract impress upon still good fun', 'despit gratuit cinemat distract impress upon', 'gratuit cinemat distract impress upon', 'gratuit cinemat distract', 'gratuit cinemat distract', 'gratuit', 'cinemat distract', 'distract', 'impress upon', 'impress', 'upon', 'upon', 'still good fun', 'still good fun', 'still good fun', 'still', 'good fun', 'fun', 'downright transpar script endless assault embarrassingli ham fist sex joke reek script rewrit design garner film cooler pg rate', 'downright transpar', 'downright', 'transpar', 'script endless assault embarrassingli ham fist sex joke reek script rewrit design garner film cooler pg rate', 'script endless assault embarrassingli ham fist sex joke reek script rewrit design garner film cooler pg rate', 'script endless assault embarrassingli ham fist sex joke', 'script endless assault embarrassingli ham fist sex joke', 'script endless assault', 'script', 'script', 'endless assault', 'endless', 'assault', 'embarrassingli ham fist sex joke', 'embarrassingli ham fist sex joke', 'embarrassingli ham fist', 'embarrassingli', 'ham fist', 'sex joke', 'sex', 'joke', 'reek script rewrit design garner film cooler pg rate', 'reek script rewrit design garner film cooler pg rate', 'reek script', 'reek', 'script', 'script', 'rewrit design garner film cooler pg rate', 'rewrit', 'design garner film cooler pg rate', 'design', 'garner film cooler pg rate', 'garner film cooler pg rate', 'garner', 'film cooler pg rate', 'cooler pg rate', 'cooler pg rate', 'cooler pg rate', 'cooler', 'pg rate', 'pg rate', 'pg', 'rate', 'smart provoc drama nearli imposs get skin man know evil monstrou lunat', 'smart provoc drama nearli imposs get skin man know evil monstrou lunat', 'smart provoc drama nearli imposs', 'smart provoc drama nearli imposs', 'smart provoc drama', 'smart provoc drama', 'provoc drama', 'provoc drama', 'provoc', 'drama', 'nearli imposs', 'nearli imposs', 'nearli imposs', 'nearli', 'imposs', '', 'get skin man know evil monstrou lunat', 'get skin man know evil monstrou lunat', 'get', 'skin man know evil monstrou lunat', '', 'skin man know evil monstrou lunat', 'skin', 'skin', 'man know evil monstrou lunat', 'man know evil monstrou lunat', 'man', 'man', 'know evil monstrou lunat', '', 'know evil monstrou lunat', 'know evil monstrou lunat', 'know', 'evil monstrou lunat', 'evil monstrou lunat', 'evil monstrou lunat', 'evil', 'monstrou lunat', 'monstrou lunat', 'monstrou', 'lunat', 'like drive', 'like drive', 'like drive', 'like drive', 'drive', 'drive', 'mani thing stoner midnight flick sci fi deconstruct gay fantasia love stori sanguin titl', 'mani thing stoner midnight flick sci fi deconstruct gay fantasia', 'mani thing stoner midnight flick sci fi deconstruct gay fantasia', 'mani thing stoner midnight flick sci fi deconstruct gay fantasia', 'mani thing', 'mani', 'thing', 'stoner midnight flick sci fi deconstruct gay fantasia', 'stoner midnight flick sci fi deconstruct gay fantasia', 'stoner midnight flick sci fi deconstruct gay fantasia', 'stoner midnight flick sci fi deconstruct', 'stoner midnight flick sci fi deconstruct', 'stoner midnight flick', 'stoner midnight flick', 'stoner', 'midnight flick', 'midnight', 'sci fi deconstruct', 'sci fi', 'deconstruct', 'gay fantasia', 'gay', 'fantasia', '', '', '', 'love stori sanguin titl', 'love stori sanguin titl', 'love stori sanguin titl', 'love stori sanguin titl', 'love stori sanguin', 'love stori', 'love stori', 'sanguin', 'sanguin', 'titl', 'titl', 'funni romant comedi two skittish new york middl ager stumbl relationship struggl furious fear foibl', 'funni romant comedi two skittish new york middl ager stumbl relationship', 'funni romant comedi', 'funni romant comedi', 'funni', 'romant comedi', 'two skittish new york middl ager stumbl relationship', 'two skittish new york middl ager stumbl relationship', 'two skittish new york middl ager', 'two', 'skittish new york middl ager', 'skittish', 'new york middl ager', 'york middl ager', 'york', 'middl ager', 'stumbl relationship', 'stumbl relationship', 'stumbl', 'relationship', 'relationship', 'relationship', 'relationship', 'relationship', 'struggl furious fear foibl', 'struggl furious fear foibl', 'struggl furious', 'struggl', 'furious', 'fear foibl', 'fear foibl', 'fear foibl', 'fear', 'fear', 'foibl', 'ambit say someth subject not willing', 'ambit say someth subject not willing', 'ambit say someth subject not willing', 'ambit say someth subject not willing', 'ambit say someth subject not willing', 'ambit say someth subject not', 'ambit say someth subject', 'ambit say someth subject', 'ambit say someth subject', 'ambit', 'say someth subject', 'say someth subject', 'say someth', 'subject', 'subject', 'subject', 'not', 'not', 'willing', 'willing', 'lrb scherfig rrb made movi leav wonder charact live clever credit roll', 'lrb scherfig rrb', 'scherfig rrb', 'scherfig', 'made movi leav wonder charact live clever credit roll', 'made movi leav wonder charact live clever credit roll', 'made movi leav wonder charact live clever credit roll', 'movi leav wonder charact live clever credit roll', 'movi', 'leav wonder charact live clever credit roll', 'leav wonder charact live clever credit roll', '', 'leav wonder charact live clever credit roll', 'wonder charact live clever credit roll', 'wonder charact live clever credit roll', 'wonder charact live', 'wonder', 'charact live', 'charact live', 'charact', 'charact', 'clever credit roll', 'clever credit roll', 'clever credit roll', 'clever', 'credit roll', 'credit', 'roll', 'lrb rrb absorb documentari', 'lrb rrb absorb documentari', 'lrb rrb', 'rrb', 'absorb documentari', 'absorb', 'documentari', 'reek rot hack work start finish', 'reek rot hack', 'reek', 'rot hack', 'rot hack', 'rot', 'rot', 'hack', 'work start finish', 'work start finish', 'work start', 'play like seri vignett clip film still look common line', 'play like seri vignett clip film still look common line', 'play like seri vignett', 'play like seri vignett', 'like seri vignett', 'seri vignett', 'vignett', 'vignett', 'clip film still look common line', 'clip', 'film still look common line', 'film still look common line', 'still look common line', 'still look common line', 'still', 'look common line', 'look', 'common line', 'common line', 'common line', 'common', 'line', '', 'contriv pastich caper', 'contriv pastich', 'contriv', 'pastich', 'caper', 'caper', 'major problem windtalk bulk movi center wrong charact', 'major problem windtalk', 'major problem', 'major problem', 'major', 'problem', 'windtalk', 'bulk movi center wrong charact', 'bulk movi center wrong charact', 'bulk movi center wrong charact', 'bulk movi center wrong charact', 'bulk movi', 'bulk', 'bulk', 'movi', 'center wrong charact', 'center', 'wrong charact', 'wrong charact', 'wrong charact', 'wrong', 'swimfan like fatal attract eventu goe overboard looni melodramat denouement high school swim pool substitut bathtub', 'swimfan like fatal attract', 'swimfan like fatal attract', 'swimfan', 'swimfan', 'like fatal attract', 'fatal attract', 'attract', 'eventu goe overboard looni melodramat denouement high school swim pool substitut bathtub', 'eventu', 'goe overboard looni melodramat denouement high school swim pool substitut bathtub', 'goe overboard looni melodramat denouement high school swim pool substitut bathtub', 'goe overboard', 'goe', 'overboard', 'looni melodramat denouement high school swim pool substitut bathtub', 'looni melodramat denouement high school swim pool substitut bathtub', 'looni melodramat denouement', 'looni melodramat denouement', 'looni', 'melodramat denouement', 'melodramat', 'denouement', 'high school swim pool substitut bathtub', 'high school swim pool substitut bathtub', 'high school swim', 'high school swim', 'school swim', 'school', 'swim', 'pool substitut bathtub', 'pool', 'substitut bathtub', 'substitut', 'bathtub', 'bathtub', 'bathtub', 'heartfelt stori n involv one', 'heartfelt stori n involv one', 'heartfelt stori', 'heartfelt stori', 'heartfelt stori', 'heartfelt stori', 'heartfelt stori', 'heartfelt', 'n involv one', 'n involv one', 'n involv one', 'n', 'n', '', 'involv one', 'involv', 'unsettl memor cinemat experi predecessor proud', 'unsettl memor cinemat experi', 'unsettl memor cinemat experi', 'unsettl memor cinemat experi', 'unsettl', 'memor cinemat experi', 'memor cinemat experi', 'cinemat experi', 'experi', 'predecessor proud', 'predecessor proud', 'predecessor proud', 'predecessor', 'predecessor', 'proud', 'pretti good execut stori lot richer one hollywood action screenwrit usual come', '', '', 'pretti good execut stori lot richer one hollywood action screenwrit usual come', 'pretti good execut stori lot richer one hollywood action screenwrit usual come', 'pretti good execut stori lot richer one hollywood action screenwrit usual come', 'pretti good execut stori lot richer one hollywood action screenwrit usual come', 'pretti good execut stori lot richer one hollywood action screenwrit usual come', 'pretti good execut', 'pretti good execut', 'pretti good', 'pretti', 'execut', 'stori lot richer one hollywood action screenwrit usual come', 'stori lot richer one hollywood action screenwrit usual come', 'lot richer one hollywood action screenwrit usual come', 'lot richer one hollywood action screenwrit usual come', 'lot richer one', 'lot richer one', 'lot', 'lot', 'richer one', 'richer', 'one', 'one', 'one', 'hollywood action screenwrit usual come', 'hollywood action screenwrit', 'hollywood', 'action screenwrit', 'screenwrit', 'usual come', 'usual', 'come', 'come', 'come', '', '', '', '', 'phillip noyc actor well cinematograph christoph doyl understand delic forc green prose screen version quiet american', 'phillip noyc actor well cinematograph christoph doyl understand delic forc green prose screen version quiet american', 'phillip noyc actor well cinematograph christoph doyl understand delic forc green prose', 'phillip noyc actor well cinematograph christoph doyl understand delic forc green prose', 'phillip noyc actor well cinematograph christoph doyl understand delic forc green prose', 'phillip noyc actor well cinematograph christoph doyl', 'phillip noyc actor', 'phillip noyc', 'phillip noyc', 'phillip', 'noyc', 'actor', 'actor', 'actor', 'well cinematograph christoph doyl', 'well cinematograph christoph doyl', 'well', 'well', 'well', 'cinematograph christoph doyl', 'cinematograph', 'cinematograph', 'cinematograph', 'christoph doyl', 'christoph', 'doyl', 'understand delic forc green prose', 'understand', 'delic forc green prose', 'delic forc', 'delic forc', 'delic', 'forc', 'green prose', 'green prose', 'green', 'green', 'prose', 'screen version quiet american', 'screen version quiet american', '', 'screen version quiet american', 'screen version quiet american', 'screen', 'screen', 'version quiet american', 'version quiet american', 'version', 'version', 'quiet american', 'quiet american', 'quiet american', 'american', 'pianist lack quick emot connect steven spielberg schindler list', 'pianist', 'pianist', 'lack quick emot connect steven spielberg schindler list', 'lack quick emot connect steven spielberg schindler list', 'lack', 'quick emot connect steven spielberg schindler list', 'quick emot connect', 'quick emot connect', 'quick', 'emot connect', 'emot', 'connect', 'steven spielberg schindler list', 'steven spielberg schindler list', 'steven spielberg', 'steven', 'spielberg', 'spielberg', 'schindler list', 'schindler', 'schindler', 'list', 'invent fun intoxicatingli sexi violent self indulg madden', 'invent fun intoxicatingli sexi violent self indulg madden', 'invent fun', 'invent fun', 'invent', 'invent', 'intoxicatingli sexi violent self indulg madden', 'intoxicatingli', 'sexi violent self indulg madden', 'sexi', 'violent self indulg madden', 'violent self indulg madden', 'violent', 'self indulg madden', 'self indulg madden', 'self indulg', 'madden', 'tell fascin compel stori', 'tell fascin compel stori', 'tell', 'fascin compel stori', 'fascin compel stori', 'fascin', 'compel stori', 'compel stori', 'compel', 'written flatli david kendal direct bare someth mari co writer ed decter', 'written flatli david kendal direct bare', 'written flatli david kendal', 'written flatli david kendal', 'written flatli', 'written flatli', 'written', 'written', 'flatli', 'david kendal', 'david kendal', 'kendal', 'direct bare', 'direct bare', 'direct bare', 'direct', 'direct', 'bare', '', 'someth mari co writer ed decter', 'someth mari co writer ed decter', 'someth mari co writer ed decter', 'mari co writer ed decter', 'mari co writer ed decter', 'mari', 'co writer ed decter', 'co writer', 'ed decter', 'ed', 'decter', 'highli recommend view courag idea technic profici great act', 'highli', 'recommend view courag idea technic profici great act', 'recommend view courag idea technic profici great act', 'recommend', 'view courag idea technic profici great act', 'view', 'courag idea technic profici great act', 'courag idea technic profici great act', 'courag idea technic profici', 'courag idea technic profici', 'courag idea', 'courag idea', 'courag', 'courag', 'courag', 'idea', 'technic profici', 'technic', 'profici', 'great act', 'great', 'act', 'imax short wonder big screen', 'imax short', 'imax short', 'imax', 'short', 'short', 'wonder big screen', 'wonder big screen', 'wonder big screen', 'wonder big screen', '', 'wonder big screen', 'wonder big screen', 'wonder', 'big screen', 'big screen', 'big screen', 'big', 'show us slice life differ yet instantli recogniz', 'show us slice life differ yet instantli recogniz', 'show us slice life differ yet instantli recogniz', 'show', 'us slice life differ yet instantli recogniz', 'slice life differ yet instantli recogniz', 'slice', 'slice', 'life differ yet instantli recogniz', 'life differ yet instantli recogniz', 'differ yet instantli recogniz', 'differ yet instantli recogniz', 'differ yet instantli recogniz', 'differ', 'differ', 'differ', '', '', 'yet instantli recogniz', 'yet', 'instantli recogniz', 'instantli', 'recogniz', 'amid shock curios factor film corni examin young actress tri find way', 'amid shock curios factor', 'amid', 'shock curios factor', 'shock curios factor', 'shock', 'curios factor', 'curios factor', 'curios', 'factor', 'film corni examin young actress tri find way', 'film corni examin young actress tri find way', 'corni examin young actress tri find way', 'corni examin young actress tri find way', 'corni examin young actress tri find way', 'corni examin', 'corni examin', 'corni', 'examin', 'young actress tri find way', 'young actress tri find way', 'young actress', 'young actress', 'actress', 'tri find way', 'tri', 'find way', 'find way', 'find', 'way', '', 'lazi movi avoid solv one problem tri distract us solut anoth', 'lazi movi avoid solv one problem tri distract us solut anoth', 'lazi movi avoid solv one problem tri distract us solut anoth', 'lazi movi', 'lazi movi', 'lazi', 'movi', 'avoid solv one problem tri distract us solut anoth', 'avoid solv one problem tri distract us solut anoth', 'solv one problem tri distract us solut anoth', 'solv one problem', 'solv', 'one problem', 'tri distract us solut anoth', 'tri distract us solut anoth', 'distract us solut anoth', 'distract us solut anoth', 'distract us', 'distract', 'solut anoth', 'solut anoth', 'solut', 'solut', 'anoth', 'anoth', 'comprehens dummi guid someth even non techi enjoy', 'comprehens dummi guid someth even non techi enjoy', 'comprehens dummi guid someth even non techi enjoy', 'comprehens dummi guid someth even non techi enjoy', 'comprehens dummi guid someth', 'comprehens dummi guid someth', 'comprehens dummi guid someth', 'comprehens', 'dummi guid someth', 'dummi guid someth', 'dummi guid', 'dummi guid', 'dummi guid', 'dummi', 'guid', 'even non techi enjoy', 'non techi enjoy', 'non techi', 'enjoy', 'enjoy', 'entertain not much music comic antic pervers pleasur watch disney scrape bottom cracker barrel', 'entertain not much music comic antic pervers pleasur watch disney scrape bottom cracker barrel', 'entertain not much', 'entertain not', 'entertain', 'much', 'music comic antic pervers pleasur watch disney scrape bottom cracker barrel', '', 'music comic antic pervers pleasur watch disney scrape bottom cracker barrel', 'music comic antic', 'music comic antic', 'music', 'music', 'music', 'comic antic', 'comic', 'antic', 'pervers pleasur watch disney scrape bottom cracker barrel', '', 'pervers pleasur watch disney scrape bottom cracker barrel', 'pervers pleasur watch disney scrape bottom cracker barrel', 'pervers pleasur', 'pervers pleasur', 'pleasur', 'watch disney scrape bottom cracker barrel', 'watch disney scrape bottom cracker barrel', 'disney scrape bottom cracker barrel', 'disney scrape', 'disney', 'scrape', 'bottom cracker barrel', 'bottom', 'bottom', 'cracker barrel', 'cracker barrel', 'cracker barrel', 'cracker barrel', 'cracker', 'barrel', 'writer director burr steer emphas q quirki mix result', 'writer director burr steer', 'writer director', 'burr steer', 'burr', 'steer', 'emphas q quirki mix result', 'emphas q quirki mix result', 'emphas q quirki', 'emphas q quirki', 'emphas', 'q quirki', 'q', 'q', 'quirki', 'quirki', 'mix result', 'mix result', 'mix', 'result', 'scarc worth mention apart report number tumblewe blow empti theatr grace compani', 'scarc worth mention apart report number tumblewe blow empti theatr', 'scarc worth mention', 'scarc worth', 'scarc', 'mention', 'mention', 'apart report number tumblewe blow empti theatr', 'report number tumblewe blow empti theatr', 'report number tumblewe blow empti theatr', 'report', 'number tumblewe blow empti theatr', 'number tumblewe blow empti theatr', 'number', 'number', 'tumblewe blow empti theatr', 'tumblewe blow empti theatr', 'tumblewe', 'blow empti theatr', 'blow', 'empti theatr', 'empti theatr', 'empti theatr', 'empti', 'theatr', 'grace compani', 'grace compani', 'grace', 'compani', 'compani', 'compani', 'invigor surreal reson rainbow emot', 'invigor surreal reson rainbow emot', 'invigor surreal reson rainbow', 'invigor surreal reson', 'invigor', 'surreal reson', 'surreal reson', 'surreal', 'reson', '', 'reson', 'rainbow', 'rainbow', 'rainbow', 'emot', 'emot', 'analyz one crass contriv sequel not fail make second guess affect origin', 'analyz one crass contriv sequel not fail make second guess affect origin', 'analyz', 'analyz', 'one crass contriv sequel not fail make second guess affect origin', 'one crass contriv sequel not fail make second guess affect origin', 'one crass contriv sequel not fail make second guess affect origin', 'one crass contriv sequel not fail make second guess affect origin', 'crass contriv sequel not fail make second guess affect origin', 'crass contriv sequel not fail make second guess affect origin', 'crass contriv sequel', 'crass contriv sequel', 'crass', 'contriv sequel', 'contriv sequel', 'sequel', 'not fail make second guess affect origin', 'not fail make second guess affect origin', 'not', 'fail make second guess affect origin', 'fail', 'fail', 'fail', 'fail', '', '', 'make second guess affect origin', 'second guess affect origin', 'second guess affect origin', 'second guess affect', 'second guess', 'affect', 'affect', 'origin', 'origin', 'origin', 'report card n live exalt taglin definit room improv', 'report card n live exalt taglin', 'report card n live exalt taglin', 'report card', 'report card', 'report', 'card', 'n live exalt taglin', 'live exalt taglin', 'live', 'live', 'exalt taglin', 'exalt taglin', 'exalt taglin', 'exalt', 'taglin', 'definit room improv', 'definit room improv', 'definit room improv', 'definit room improv', 'definit room', 'definit', 'room', 'improv', 'improv', 'not particularli good film neither monster one', 'not particularli good film neither monster one', 'not particularli good film', 'not particularli good film', 'not particularli good film', 'not particularli good film', 'not', 'particularli good film', 'particularli good film', 'particularli good', 'neither monster one', 'neither', 'monster one', 'monster one', 'monster one', 'monster', 'monster', 'tsai may plough furrow often', 'tsai', 'may plough furrow often', 'may plough furrow often', 'may', 'plough furrow often', 'plough furrow often', 'plough furrow', 'plough', 'furrow', 'furrow', 'furrow', 'often', '', 'often', 'often', 'lrb green rrb comedi equival saddam hussein readi go u n ask permiss preemptiv strike', 'green rrb comedi equival saddam hussein readi go u n ask permiss preemptiv strike', 'green', 'rrb comedi equival saddam hussein readi go u n ask permiss preemptiv strike', 'rrb comedi equival saddam hussein readi go u n ask permiss preemptiv strike', 'rrb comedi equival saddam hussein', 'rrb comedi equival saddam hussein', 'rrb comedi equival saddam hussein', 'rrb', 'comedi equival saddam hussein', 'comedi equival', 'comedi equival', 'comedi equival', 'equival', 'saddam hussein', 'saddam', 'hussein', 'readi go u n ask permiss preemptiv strike', 'readi go u n ask permiss preemptiv strike', '', 'readi go u n ask permiss preemptiv strike', 'readi go u n ask permiss preemptiv strike', 'readi', 'go u n ask permiss preemptiv strike', 'go u n ask permiss preemptiv strike', 'go u n', 'go u n', 'go', 'u n', 'u n', 'u n', 'ask permiss preemptiv strike', 'ask permiss', 'ask', 'permiss', 'preemptiv strike', 'preemptiv strike', 'preemptiv strike', 'preemptiv', 'strike', 'surprisingli solid achiev director malcolm lee writer john ridley', 'surprisingli solid achiev director malcolm lee writer john ridley', 'surprisingli solid achiev director', 'surprisingli solid achiev', 'surprisingli solid achiev', 'surprisingli solid', 'surprisingli', 'solid', 'solid', 'solid', 'achiev', 'director', 'malcolm lee writer john ridley', 'malcolm lee', 'malcolm lee', 'malcolm', 'lee', '', 'lee', 'writer john ridley', 'writer', 'john ridley', 'john', 'ridley', 'massoud stori epic also tragedi record tenaci human fighter also prison lrb ultim victim rrb histori', 'massoud stori', 'massoud', 'massoud', 'epic also tragedi record tenaci human fighter also prison lrb ultim victim rrb histori', 'epic also tragedi record tenaci human fighter also prison lrb ultim victim rrb histori', 'epic also tragedi record tenaci human fighter also prison lrb ultim victim rrb histori', 'epic also', 'epic', 'epic', 'also', 'tragedi record tenaci human fighter also prison lrb ultim victim rrb histori', 'tragedi', 'tragedi', 'record tenaci human fighter also prison lrb ultim victim rrb histori', 'record', 'record', 'tenaci human fighter also prison lrb ultim victim rrb histori', 'tenaci human fighter also prison lrb ultim victim rrb histori', 'tenaci human fighter', 'tenaci human fighter', 'tenaci', 'human fighter', 'human fighter', 'human', 'fighter', 'also prison lrb ultim victim rrb histori', 'also prison lrb ultim victim rrb histori', 'also', '', 'prison lrb ultim victim rrb histori', 'prison lrb ultim victim rrb', 'prison', 'prison', 'lrb ultim victim rrb', 'ultim victim rrb', 'ultim victim rrb', 'victim rrb', 'victim', 'victim', 'histori', 'chang lane tri', 'chang lane', 'chang', 'lane', 'tri', 'tri', 'tri', '', 'shyamalan stop tri pleas mom', 'shyamalan', 'stop tri pleas mom', 'stop tri pleas mom', 'stop tri pleas mom', 'stop', 'tri pleas mom', 'pleas mom', 'pleas mom', 'pleas', 'mom', 'mom', 'macabr styliz swedish fillm modern citi religi civic virtu hold societi place tatter', 'macabr', 'macabr', 'macabr', 'macabr', 'styliz swedish fillm modern citi religi civic virtu hold societi place tatter', 'styliz swedish fillm modern citi religi civic virtu hold societi place tatter', 'styliz swedish fillm modern citi', 'styliz swedish fillm', 'styliz', 'swedish fillm', 'swedish', 'fillm', 'modern citi', 'modern citi', 'modern citi', 'citi', 'religi civic virtu hold societi place tatter', '', 'religi civic virtu hold societi place tatter', 'religi civic virtu hold societi place', 'religi civic virtu', 'religi civic virtu', 'religi civic virtu', 'religi', 'civic virtu', 'civic virtu', 'civic', 'virtu', 'hold societi place', 'hold societi place', 'hold', 'societi place', 'societi', 'place', 'tatter', 'tatter', 'tatter', 'one recent memori thought film art ethic cost moral compromis', 'one recent memori', 'recent memori', 'recent memori', 'recent', 'memori', 'thought film art ethic cost moral compromis', 'thought film art ethic cost moral compromis', 'thought film art ethic cost moral compromis', 'thought film', 'thought', 'thought', 'art ethic cost moral compromis', 'art ethic cost moral compromis', 'art ethic', 'art ethic', 'art ethic', 'art', 'art', 'ethic', 'cost moral compromis', 'cost', 'cost', 'moral compromis', 'moral compromis', 'moral', 'compromis', 'narr consist unimagin probabl way save film aid wisecrack mysteri scienc theater guy', 'narr', 'consist unimagin probabl way save film aid wisecrack mysteri scienc theater guy', 'consist unimagin probabl way save film aid wisecrack mysteri scienc theater guy', 'consist unimagin', 'consist unimagin', 'consist unimagin', 'consist', 'unimagin', 'probabl way save film aid wisecrack mysteri scienc theater guy', 'probabl way save film aid wisecrack mysteri scienc theater guy', 'probabl way', 'probabl', 'way', 'way', 'save film aid wisecrack mysteri scienc theater guy', 'save film aid wisecrack mysteri scienc theater guy', 'save film aid wisecrack mysteri scienc theater guy', 'save', 'film aid wisecrack mysteri scienc theater guy', 'aid wisecrack mysteri scienc theater guy', 'aid wisecrack mysteri scienc theater guy', 'aid wisecrack mysteri scienc theater guy', 'aid', 'aid', 'wisecrack mysteri scienc theater guy', 'wisecrack mysteri scienc theater guy', 'wisecrack mysteri scienc theater guy', 'wisecrack', 'mysteri scienc theater guy', 'mysteri', 'scienc theater guy', 'scienc', 'theater guy', 'guy', '', 'guy', 'filmmak tian zhuangzhuang triumphantli return narr filmmak visual master work quiet power', 'filmmak tian zhuangzhuang', 'tian zhuangzhuang', 'tian', 'zhuangzhuang', 'triumphantli return narr filmmak visual master work quiet power', 'triumphantli', 'return narr filmmak visual master work quiet power', 'return narr filmmak visual master work quiet power', 'return', 'narr filmmak visual master work quiet power', 'narr filmmak visual master work quiet power', 'filmmak visual master work quiet power', 'filmmak', 'visual master work quiet power', 'visual master work quiet power', 'visual master work', 'visual master work', 'visual master', 'visual', 'master', 'quiet power', 'quiet power', 'power', 'mawkish self parodi play like weird masterpiec theater sketch neither point view compel reason', 'mawkish self parodi play like weird masterpiec theater sketch neither point view compel reason', 'mawkish self parodi play like weird masterpiec theater sketch neither', 'mawkish self parodi', 'mawkish self parodi', 'mawkish', 'self parodi', 'play like weird masterpiec theater sketch neither', 'play like weird masterpiec theater sketch neither', 'like weird masterpiec theater sketch neither', 'weird masterpiec theater sketch neither', 'weird masterpiec theater sketch', 'weird masterpiec theater sketch', 'weird', 'masterpiec theater sketch', 'masterpiec', 'theater sketch', 'sketch', 'neither', 'point view compel reason', 'point view', 'point view', 'point', 'view', 'view', '', 'compel reason', 'compel reason', 'compel reason', '', 'take one charact n like anoth n believ put battl will imposs care n funni', 'take one charact n like anoth n believ put battl will imposs care n funni', 'take one charact n like', 'take one charact n like', 'take one charact', 'one charact', 'n like', 'n like', 'anoth n believ put battl will imposs care n funni', 'anoth', 'n believ put battl will imposs care n funni', 'n believ', 'n believ', 'n believ', 'believ', 'put battl will imposs care n funni', 'put', 'put', '', 'battl will imposs care n funni', 'battl will imposs care n funni', 'battl', 'battl', 'will imposs care n funni', 'will imposs care n funni', 'will', 'imposs care n funni', 'imposs care n funni', 'imposs care', 'imposs care', 'imposs care', 'care', 'care', 'care', 'n funni', 'appreci one side theme lawrenc indulg tirad knock enjoy big screen postcard self glorifi martin lawrenc lovefest', 'appreci one side theme lawrenc indulg tirad knock enjoy big screen postcard self glorifi martin lawrenc lovefest', 'appreci one side theme lawrenc indulg tirad', 'appreci one side theme lawrenc indulg tirad', 'appreci one side theme lawrenc indulg tirad', 'appreci one side theme', 'appreci', 'one side theme', 'one side theme', 'one side', 'theme', 'lawrenc indulg tirad', 'lawrenc indulg tirad', 'lawrenc', 'lawrenc', 'indulg tirad', 'indulg', 'tirad', 'knock enjoy big screen postcard self glorifi martin lawrenc lovefest', 'knock enjoy big screen postcard self glorifi martin lawrenc lovefest', 'knock enjoy big screen postcard self glorifi martin lawrenc lovefest', 'knock enjoy big screen postcard self glorifi martin lawrenc lovefest', 'knock', 'knock', 'knock', 'knock', '', 'enjoy big screen postcard self glorifi martin lawrenc lovefest', 'big screen postcard self glorifi martin lawrenc lovefest', 'big screen postcard', 'big screen postcard', 'screen postcard', 'postcard', 'self glorifi martin lawrenc lovefest', 'self glorifi martin lawrenc lovefest', 'self glorifi martin lawrenc lovefest', 'self glorifi martin lawrenc lovefest', 'self glorifi', 'martin lawrenc lovefest', 'martin', 'lawrenc lovefest', 'lovefest', 'whole film sneaki feel director tri dupe viewer take import simpli movi ugli look not hollywood product', 'whole film', 'whole film', 'whole', 'sneaki feel director tri dupe viewer take import simpli movi ugli look not hollywood product', 'sneaki feel director tri dupe viewer take import simpli movi ugli look not hollywood product', 'sneaki feel director tri dupe viewer take import simpli movi ugli look not hollywood product', 'sneaki feel', 'sneaki feel', 'sneaki', 'director tri dupe viewer take import simpli movi ugli look not hollywood product', '', 'director tri dupe viewer take import simpli movi ugli look not hollywood product', 'director tri dupe viewer take import simpli movi ugli look not hollywood product', 'director tri dupe viewer take import simpli movi ugli look not hollywood product', 'director tri dupe viewer take import simpli movi ugli look not hollywood product', 'director', 'tri dupe viewer take import simpli movi ugli look not hollywood product', 'tri dupe viewer take import simpli movi ugli look not hollywood product', 'dupe viewer take import simpli movi ugli look not hollywood product', 'dupe viewer take import simpli movi ugli look not hollywood product', 'dupe viewer take import', 'dupe viewer', 'dupe', 'viewer', 'viewer', 'take import', 'take import', 'take', 'take', 'import', 'import', 'import', 'import']\n"
          ],
          "name": "stdout"
        }
      ]
    },
    {
      "cell_type": "markdown",
      "metadata": {
        "id": "aGCi8F32YXpt"
      },
      "source": [
        "## Creating the Bag of Words model"
      ]
    },
    {
      "cell_type": "code",
      "metadata": {
        "id": "HiRdn6jyYZiM"
      },
      "source": [
        "from sklearn.feature_extraction.text import CountVectorizer\n",
        "cv = CountVectorizer(max_features=700)\n",
        "X = cv.fit_transform(corpus).toarray()\n",
        "Y = train.iloc[:, -1].values"
      ],
      "execution_count": 13,
      "outputs": []
    },
    {
      "cell_type": "code",
      "metadata": {
        "colab": {
          "base_uri": "https://localhost:8080/"
        },
        "id": "-Xz1ioHebw5W",
        "outputId": "f3986400-9506-4f37-ad0b-849ca350a5a7"
      },
      "source": [
        "print(len(X[0]))"
      ],
      "execution_count": 12,
      "outputs": [
        {
          "output_type": "stream",
          "text": [
            "794\n"
          ],
          "name": "stdout"
        }
      ]
    },
    {
      "cell_type": "markdown",
      "metadata": {
        "id": "0beQJM5dbp-J"
      },
      "source": [
        "## Splitting the dataset into the Training set and Test set"
      ]
    },
    {
      "cell_type": "code",
      "metadata": {
        "id": "SZoMrIBabwSb"
      },
      "source": [
        "from sklearn.model_selection import train_test_split\n",
        "X_train,X_test,y_train,y_test = train_test_split(X, Y, test_size = 0.20, random_state = 0)"
      ],
      "execution_count": 14,
      "outputs": []
    },
    {
      "cell_type": "markdown",
      "metadata": {
        "id": "gOksgm6VcK_z"
      },
      "source": [
        "## Training the Naive Bayes model on the Training set"
      ]
    },
    {
      "cell_type": "code",
      "metadata": {
        "colab": {
          "base_uri": "https://localhost:8080/"
        },
        "id": "EaMBs5l6cM8d",
        "outputId": "72c10eb4-6044-40c7-a4bb-d83102526298"
      },
      "source": [
        "from sklearn.naive_bayes import GaussianNB\n",
        "classifier = GaussianNB()\n",
        "classifier.fit(X_train,y_train)"
      ],
      "execution_count": 16,
      "outputs": [
        {
          "output_type": "execute_result",
          "data": {
            "text/plain": [
              "GaussianNB(priors=None, var_smoothing=1e-09)"
            ]
          },
          "metadata": {},
          "execution_count": 16
        }
      ]
    },
    {
      "cell_type": "markdown",
      "metadata": {
        "id": "gp0-Sk7oceaP"
      },
      "source": [
        "## Predicting the Test set results"
      ]
    },
    {
      "cell_type": "code",
      "metadata": {
        "colab": {
          "base_uri": "https://localhost:8080/"
        },
        "id": "bWj-XNv4ch8r",
        "outputId": "a61f4650-98f1-4780-8845-c2090e22735b"
      },
      "source": [
        "from sklearn.metrics import confusion_matrix,accuracy_score\n",
        "y_pred = classifier.predict(X_test)\n",
        "cm = confusion_matrix(y_test,y_pred)\n",
        "print(cm)\n",
        "accuracy_score(y_test,y_pred)"
      ],
      "execution_count": 17,
      "outputs": [
        {
          "output_type": "stream",
          "text": [
            "[[  9   6   1   1   0]\n",
            " [ 37  35   4   8  14]\n",
            " [ 60  78  16 119  95]\n",
            " [ 13   7   4  33  36]\n",
            " [  1   0   0   3  21]]\n"
          ],
          "name": "stdout"
        },
        {
          "output_type": "execute_result",
          "data": {
            "text/plain": [
              "0.1896838602329451"
            ]
          },
          "metadata": {},
          "execution_count": 17
        }
      ]
    },
    {
      "cell_type": "code",
      "metadata": {
        "colab": {
          "base_uri": "https://localhost:8080/"
        },
        "id": "iYgXO1SBc8qR",
        "outputId": "5211de0c-be56-49e3-85de-dd5388095ac8"
      },
      "source": [
        "from sklearn.model_selection import cross_val_score\n",
        "accuracies = cross_val_score(estimator = classifier, X=X_train, y=y_train, cv = 10)\n",
        "print(\"Accuracy: {:.2f} %\".format(accuracies.mean()*100))\n",
        "print(\"Standard Deviation: {:.2f} %\".format(accuracies.std()*100))"
      ],
      "execution_count": 18,
      "outputs": [
        {
          "output_type": "stream",
          "text": [
            "Accuracy: 19.88 %\n",
            "Standard Deviation: 2.23 %\n"
          ],
          "name": "stdout"
        }
      ]
    },
    {
      "cell_type": "markdown",
      "metadata": {
        "id": "NZTNEgwld5ct"
      },
      "source": [
        "## Training the SVM on the Training set"
      ]
    },
    {
      "cell_type": "code",
      "metadata": {
        "colab": {
          "base_uri": "https://localhost:8080/"
        },
        "id": "rbqUjZKbd_AL",
        "outputId": "8bfc4a61-bc20-4dc3-c8ad-f65afa7af059"
      },
      "source": [
        "from sklearn.svm import SVC\n",
        "classifier = SVC(kernel='rbf', random_state=0)\n",
        "classifier.fit(X_train,y_train)"
      ],
      "execution_count": 19,
      "outputs": [
        {
          "output_type": "execute_result",
          "data": {
            "text/plain": [
              "SVC(C=1.0, break_ties=False, cache_size=200, class_weight=None, coef0=0.0,\n",
              "    decision_function_shape='ovr', degree=3, gamma='scale', kernel='rbf',\n",
              "    max_iter=-1, probability=False, random_state=0, shrinking=True, tol=0.001,\n",
              "    verbose=False)"
            ]
          },
          "metadata": {},
          "execution_count": 19
        }
      ]
    },
    {
      "cell_type": "markdown",
      "metadata": {
        "id": "thuVocVeeWA9"
      },
      "source": [
        "## Predicting the Test set results"
      ]
    },
    {
      "cell_type": "code",
      "metadata": {
        "colab": {
          "base_uri": "https://localhost:8080/"
        },
        "id": "yZF9CKBReX20",
        "outputId": "bb98f73e-6241-491d-8c8d-3bc1c767d314"
      },
      "source": [
        "from sklearn.metrics import confusion_matrix,accuracy_score\n",
        "y_pred = classifier.predict(X_test)\n",
        "cm = confusion_matrix(y_test,y_pred)\n",
        "print(cm)\n",
        "accuracy_score(y_test,y_pred)"
      ],
      "execution_count": 20,
      "outputs": [
        {
          "output_type": "stream",
          "text": [
            "[[  5   8   4   0   0]\n",
            " [ 10  37  51   0   0]\n",
            " [  0  12 348   8   0]\n",
            " [  0   2  65  24   2]\n",
            " [  0   0   7  11   7]]\n"
          ],
          "name": "stdout"
        },
        {
          "output_type": "execute_result",
          "data": {
            "text/plain": [
              "0.7004991680532446"
            ]
          },
          "metadata": {},
          "execution_count": 20
        }
      ]
    },
    {
      "cell_type": "code",
      "metadata": {
        "colab": {
          "base_uri": "https://localhost:8080/"
        },
        "id": "_kjfEcHQegOS",
        "outputId": "5904faab-4e89-426c-d399-61778b3d9589"
      },
      "source": [
        "from sklearn.model_selection import cross_val_score\n",
        "accuracies = cross_val_score(estimator = classifier, X=X_train, y=y_train, cv = 10)\n",
        "print(\"Accuracy: {:.2f} %\".format(accuracies.mean()*100))\n",
        "print(\"Standard Deviation: {:.2f} %\".format(accuracies.std()*100))"
      ],
      "execution_count": 21,
      "outputs": [
        {
          "output_type": "stream",
          "text": [
            "Accuracy: 67.93 %\n",
            "Standard Deviation: 1.98 %\n"
          ],
          "name": "stdout"
        }
      ]
    },
    {
      "cell_type": "markdown",
      "metadata": {
        "id": "1ZXOXlWugei1"
      },
      "source": [
        "## Training the Random Forest model on the Training set"
      ]
    },
    {
      "cell_type": "code",
      "metadata": {
        "colab": {
          "base_uri": "https://localhost:8080/"
        },
        "id": "6gdb2FZtgmOC",
        "outputId": "8627ef97-4a91-4655-faec-04e97fcd3fd6"
      },
      "source": [
        "from sklearn.ensemble import RandomForestClassifier\n",
        "classifier = RandomForestClassifier(n_estimators = 10,criterion = 'entropy', random_state=0)\n",
        "classifier.fit(X_train,y_train)"
      ],
      "execution_count": 22,
      "outputs": [
        {
          "output_type": "execute_result",
          "data": {
            "text/plain": [
              "RandomForestClassifier(bootstrap=True, ccp_alpha=0.0, class_weight=None,\n",
              "                       criterion='entropy', max_depth=None, max_features='auto',\n",
              "                       max_leaf_nodes=None, max_samples=None,\n",
              "                       min_impurity_decrease=0.0, min_impurity_split=None,\n",
              "                       min_samples_leaf=1, min_samples_split=2,\n",
              "                       min_weight_fraction_leaf=0.0, n_estimators=10,\n",
              "                       n_jobs=None, oob_score=False, random_state=0, verbose=0,\n",
              "                       warm_start=False)"
            ]
          },
          "metadata": {},
          "execution_count": 22
        }
      ]
    },
    {
      "cell_type": "code",
      "metadata": {
        "colab": {
          "base_uri": "https://localhost:8080/"
        },
        "id": "zDGSGFvrhSYG",
        "outputId": "f6d3b42b-c721-4a6f-f3a6-4b4f43b85990"
      },
      "source": [
        "from sklearn.metrics import confusion_matrix,accuracy_score\n",
        "y_pred = classifier.predict(X_test)\n",
        "cm = confusion_matrix(y_test,y_pred)\n",
        "print(cm)\n",
        "accuracy_score(y_test,y_pred)"
      ],
      "execution_count": 23,
      "outputs": [
        {
          "output_type": "stream",
          "text": [
            "[[  5   8   4   0   0]\n",
            " [ 13  42  42   0   1]\n",
            " [  0  33 315  20   0]\n",
            " [  1   3  53  30   6]\n",
            " [  0   0   5  10  10]]\n"
          ],
          "name": "stdout"
        },
        {
          "output_type": "execute_result",
          "data": {
            "text/plain": [
              "0.6688851913477537"
            ]
          },
          "metadata": {},
          "execution_count": 23
        }
      ]
    },
    {
      "cell_type": "code",
      "metadata": {
        "colab": {
          "base_uri": "https://localhost:8080/"
        },
        "id": "N_XUzP46hXRA",
        "outputId": "a701b255-beed-4b0e-fc70-cdb052733068"
      },
      "source": [
        "from sklearn.model_selection import cross_val_score\n",
        "accuracies = cross_val_score(estimator = classifier, X=X_train, y=y_train, cv = 10)\n",
        "print(\"Accuracy: {:.2f} %\".format(accuracies.mean()*100))\n",
        "print(\"Standard Deviation: {:.2f} %\".format(accuracies.std()*100))"
      ],
      "execution_count": 24,
      "outputs": [
        {
          "output_type": "stream",
          "text": [
            "Accuracy: 66.64 %\n",
            "Standard Deviation: 2.71 %\n"
          ],
          "name": "stdout"
        }
      ]
    },
    {
      "cell_type": "markdown",
      "metadata": {
        "id": "QGACLdXJhhZN"
      },
      "source": [
        "## Training the XGBoost model on the Training set"
      ]
    },
    {
      "cell_type": "code",
      "metadata": {
        "colab": {
          "base_uri": "https://localhost:8080/"
        },
        "id": "_hD9fUZLhqXb",
        "outputId": "cda38601-0230-42f6-80a7-83fb0643e189"
      },
      "source": [
        "from xgboost import XGBClassifier\n",
        "classifier = XGBClassifier()\n",
        "classifier.fit(X_train,y_train)"
      ],
      "execution_count": 25,
      "outputs": [
        {
          "output_type": "execute_result",
          "data": {
            "text/plain": [
              "XGBClassifier(base_score=0.5, booster='gbtree', colsample_bylevel=1,\n",
              "              colsample_bynode=1, colsample_bytree=1, gamma=0,\n",
              "              learning_rate=0.1, max_delta_step=0, max_depth=3,\n",
              "              min_child_weight=1, missing=None, n_estimators=100, n_jobs=1,\n",
              "              nthread=None, objective='multi:softprob', random_state=0,\n",
              "              reg_alpha=0, reg_lambda=1, scale_pos_weight=1, seed=None,\n",
              "              silent=None, subsample=1, verbosity=1)"
            ]
          },
          "metadata": {},
          "execution_count": 25
        }
      ]
    },
    {
      "cell_type": "code",
      "metadata": {
        "colab": {
          "base_uri": "https://localhost:8080/"
        },
        "id": "Lqr0NkRvh5yj",
        "outputId": "7981e4ed-fde7-49be-fe8d-011d492b8d5b"
      },
      "source": [
        "from sklearn.metrics import confusion_matrix,accuracy_score\n",
        "y_pred = classifier.predict(X_test)\n",
        "cm = confusion_matrix(y_test,y_pred)\n",
        "print(cm)\n",
        "accuracy_score(y_test,y_pred)"
      ],
      "execution_count": 26,
      "outputs": [
        {
          "output_type": "stream",
          "text": [
            "[[  4   3  10   0   0]\n",
            " [  6   8  84   0   0]\n",
            " [  0   0 366   2   0]\n",
            " [  0   0  84   8   1]\n",
            " [  0   0  13   5   7]]\n"
          ],
          "name": "stdout"
        },
        {
          "output_type": "execute_result",
          "data": {
            "text/plain": [
              "0.653910149750416"
            ]
          },
          "metadata": {},
          "execution_count": 26
        }
      ]
    },
    {
      "cell_type": "code",
      "metadata": {
        "colab": {
          "base_uri": "https://localhost:8080/"
        },
        "id": "RY7vBSakh-Hw",
        "outputId": "a9f18c7a-f631-41a1-a8d1-2f428db8222d"
      },
      "source": [
        "from sklearn.model_selection import cross_val_score\n",
        "accuracies = cross_val_score(estimator = classifier, X=X_train, y=y_train, cv = 10)\n",
        "print(\"Accuracy: {:.2f} %\".format(accuracies.mean()*100))\n",
        "print(\"Standard Deviation: {:.2f} %\".format(accuracies.std()*100))"
      ],
      "execution_count": 27,
      "outputs": [
        {
          "output_type": "stream",
          "text": [
            "Accuracy: 64.35 %\n",
            "Standard Deviation: 1.68 %\n"
          ],
          "name": "stdout"
        }
      ]
    }
  ]
}